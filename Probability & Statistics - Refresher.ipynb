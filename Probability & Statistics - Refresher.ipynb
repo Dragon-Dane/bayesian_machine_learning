{
 "cells": [
  {
   "cell_type": "markdown",
   "metadata": {},
   "source": [
    "## What is Probability\n",
    "\n",
    "When we report probability of an event we are reporting a chance or how likely that event can occur.\n",
    "\n",
    "Consider a case of picking a card from a deck of cards numbered 1- 10. Now you can not see the card number and hence your choice of picking these identical cards is equal.\n",
    "P(c) = 0.1, probability of picking a card c from a deck C.\n",
    "\n",
    "Suppose these cards are then shuffled and kept back by your friend each time you pick one. Now if you pick say '3' the first time do you think you can see '3' again the next time. \n",
    "The answer is yes, although **theoretically** you only had a 10% chance of seeing the number '3' you might see it again because any **realized** sequence of picking a card might give '3' a higher chance. Remember, **it is completely random**, i.e. something different from the uniform distribution that your activity/experiment of picking a card from a deck of 10 cards will follow.\n",
    "\n",
    "Then what does 0.1 chance mean. It means that in the long run, when you would have picked these cards say 100/0s time, you would be picking the cards with same frequency ( same count ~ 10, roughly 10 for each card, in 100 picks)\n",
    "\n",
    "#### Terminologies\n",
    "$\\Omega$ :- sample space of an experiment.<br>\n",
    "$E$ (Event) :- collection of outcomes are called events, any valid subset of $\\Omega$ is an event.\n",
    "\n",
    "\n",
    "Probabilities of each experiment follows certain rules or axioms :- \n",
    "- All the probabilites are non- negative.\n",
    "- Sum of probabilities of all the outcomes in $\\Omega$ should be 1.\n",
    "- Probability of an event is simple a sum of the outcome it entails. So for an event A $\\subset\\Omega$. <br>\n",
    "$$P(A) = \\sum_{\\omega \\epsilon A} P(A)$$\n",
    "\n",
    "So the probability of getting at least one H if we toss a coin twice, then becomes adding the probability of those outcomes who have atleast one H in them = P(HH) + P(HT) + P(TH) = 1- P(TT)"
   ]
  },
  {
   "cell_type": "markdown",
   "metadata": {},
   "source": [
    "## Independence\n",
    "When any two events do not give any kind of information about each other they are known to be independent. Now, let me ask you imagine yourself as a 9 year old kid waiting for your friends to arrive to play football with them. But you see on the ground another group playing cricket.If i ask you have your friends arrived? Can you say anything from this observation. Hmm..I would definitey say my friends did not come(not good :( ), are these two events people playing cricket and arival of your friends independent, certianly not because even if they are **disjoint events** they are not independent. (I know you are thinking of all the possibilities this event is wrong, i would suggest you save it for later. :| )\n",
    "\n",
    "$$P(A \\cap B) = P(A) P(B) $$"
   ]
  },
  {
   "cell_type": "markdown",
   "metadata": {},
   "source": [
    "## Expectation\n",
    "\n",
    "The average of random value (value of a random variable) is known as expectation.\n",
    "$$ E(X) = \\sum_{x \\epsilon X(\\Omega)} P(X = x) $$\n",
    "\n",
    "Properties :- \n",
    "- E(aX + bY) = aE(X) + bE(Y), a and b being constant\n",
    "- E[XY] = E[X]E[Y], X and Y being independent"
   ]
  },
  {
   "cell_type": "code",
   "execution_count": 32,
   "metadata": {
    "collapsed": true
   },
   "outputs": [],
   "source": [
    "#Expectation of a coin flip\n",
    "p = 0.5 #the probability with which we flip a heads\n",
    "#H:- 0, T:- 1\n",
    "#The expected value of random quantity X is then\n",
    "e_x = p*0 + (1-p)*1\n",
    "\n",
    "#The correct interpretation of expectation should be that over quite a good number of flips by rv would show up \n",
    "#such that their average is 0.5"
   ]
  },
  {
   "cell_type": "markdown",
   "metadata": {},
   "source": [
    "## Variance\n",
    "\n",
    "Variance is a non-negative number which that summarizes on average how much X differs from its mean.\n",
    "$$ Var(X) = E[X- E[X^2]] $$\n",
    "\n",
    "Propreties:- \n",
    "- Var(X) greater than zero\n",
    "- Var(X) = $c^2Var(X)$\n",
    "- Var(X) = $E(X^2) - E(X)$\n",
    "- Var(X+Y) = Var(X) + Var(Y), X and y being independent"
   ]
  },
  {
   "cell_type": "code",
   "execution_count": 33,
   "metadata": {
    "collapsed": true
   },
   "outputs": [],
   "source": [
    "#Compute the variance of a die roll, which is a uniform rv over sample space = {1,2,3,4,5,6}\n",
    "import numpy as np\n",
    "sample_space = [1,2,3,4,5,6]\n",
    "prob_space = [1/6]*len(sample_space) #since uniform rv\n",
    "e_x = np.sum(np.array(sample_space)*np.array(prob_space))\n",
    "e_x2 = np.sum((np.array(sample_space)**2)*np.array(prob_space))\n",
    "var_x = e_x2 - e_x*e_x"
   ]
  },
  {
   "cell_type": "markdown",
   "metadata": {},
   "source": [
    "## Conditional Probability\n",
    "\n",
    "Probability of one thing being true (X **equals** x) given that another thing is true. It is different from occurence of these things together. i.e. Joint probability distribution.\n",
    "\n",
    "The probability of an event A conditioned on an event B is denoted and defined:- \n",
    "$$P(A|B) = \\frac {P(A \\cap B)}{P(B)} $$\n",
    "\n",
    "For example, joint probability is \"the probability that you get a \"good bonus\" and a \"promotion\", whereas a conditional probability is \"the probability that you get a \"promotion\" if you know that you got a \"good bonus\" "
   ]
  },
  {
   "cell_type": "markdown",
   "metadata": {},
   "source": [
    "## Random Variable\n",
    "Assign a real number to each outcome.So for coins it will be H:- 0, T:- 1.\n",
    "Suppose we are doing an experiment of tossing a coin three times. Now what is the rv here. We need to define it.\n",
    "X = No of times head occured after tossing the coin 3 times in a row.\n",
    "this means that X can now assign a value to no occure, single occurence etc. as {0,1,2,3}.\n",
    "P(X=0) = 1/8, P(X=1) = 3/8, P(X=2) = 3/8, P(X=3) = 1/8, this then forms our random variable's probability distribution."
   ]
  },
  {
   "cell_type": "markdown",
   "metadata": {},
   "source": [
    "## Probability Distribution\n",
    "A probability distribution describes how a random variable is distributed(can be found out using sampling, tossing a coin is like sampling only); it tells us which values a random variable is most likely to take on and which values are less likely.\n",
    "Remember our pick a card from a deck of 10 problem, suppose you after 20 iterations you have a kind of histogram, after another 10 iterations your histogram will be slightly different, the idea is whether the histogram are coming from same distribution i.e. same pdf.\n",
    "\n",
    "There are two kinds of probability distributions :- \n",
    "- Discrete\n",
    "- Continuous\n",
    "\n",
    "### Discrete Distributions\n",
    "A random variable X is called discrete if X can only take on finitely many or countably many values.\n",
    "For example, our coin flip example yielded a random variable X which could only take values in the set {0, 1}. Hence, X was a discrete random variable. \n",
    "\n",
    "If X is a discrete random variable, then there exists unique nonnegative functions, f(x) and F(x), such that the following are true:\n",
    "$$ P(X = x) = f(x) $$\n",
    "$$ P(X < x) = F(x) $$\n",
    "\n",
    "- Bernoulli :-  A Bernoulli random variable takes the value 1 with probability of p and the value 0 with probability of 1−p. It is frequently used to represent binary experiments, such as a coin toss.\n",
    "- Binomial :- A binomial random variable is the sum of n independent Bernoulli random variables with parameter p. It is frequently used to model the number of successes in a specified number of identical binary experiments, such as the number of heads in five coin tosses.\n",
    "- Geometric :- A geometric random variable counts the number of trials that are required to observe a single success, where each trial is independent and has success probability p. For example, this distribution can be used to model the number of times a die must be rolled in order for a six to be observed.\n",
    "- Poisson :- A Poisson random variable counts the number of events occurring in a fixed interval of time or space, given that these events occur with an average rate λ. It is used for independent events which occur at a constant rate within a given interval of time. This distribution has been used to model events such as meteor showers and goals in a soccer match.\n",
    "- Negative Bionomial :- A negative binomial random variable counts the number of successes in a sequence of independent Bernoulli trials with parameter p before r failures occur. For example, this distribution could be used to model the number of heads that are flipped before three tails are observed in a sequence of coin tosses.\n"
   ]
  },
  {
   "cell_type": "code",
   "execution_count": 35,
   "metadata": {},
   "outputs": [
    {
     "data": {
      "text/plain": [
       "[Text(0,0.5,'Frequency'), Text(0.5,0,'Binomial')]"
      ]
     },
     "execution_count": 35,
     "metadata": {},
     "output_type": "execute_result"
    },
    {
     "data": {
      "image/png": "[encoded data removed]",
      "text/plain": [
       "<matplotlib.figure.Figure at 0x1a1fa3ec18>"
      ]
     },
     "metadata": {},
     "output_type": "display_data"
    }
   ],
   "source": [
    "#Binomial Distribution\n",
    "from scipy.stats import binom\n",
    "import seaborn as sb\n",
    "\n",
    "binom.rvs(size=10,n=20,p=0.8)\n",
    "\n",
    "data_binom = binom.rvs(n=20,p=0.8,loc=0,size=1000)\n",
    "ax = sb.distplot(data_binom,\n",
    "                  kde=True,\n",
    "                  color='blue',\n",
    "                  hist_kws={\"linewidth\": 25,'alpha':1})\n",
    "ax.set(xlabel='Binomial', ylabel='Frequency')"
   ]
  },
  {
   "cell_type": "code",
   "execution_count": 37,
   "metadata": {
    "scrolled": true
   },
   "outputs": [
    {
     "data": {
      "text/plain": [
       "[Text(0,0.5,'Frequency'), Text(0.5,0,'Poisson')]"
      ]
     },
     "execution_count": 37,
     "metadata": {},
     "output_type": "execute_result"
    },
    {
     "data": {
      "image/png": "[encoded data removed]",
      "text/plain": [
       "<matplotlib.figure.Figure at 0x1a1f272860>"
      ]
     },
     "metadata": {},
     "output_type": "display_data"
    }
   ],
   "source": [
    "#poisson distribution\n",
    "from scipy.stats import poisson\n",
    "import seaborn as sb\n",
    "\n",
    "data_binom = poisson.rvs(mu=4, size=10000)\n",
    "ax = sb.distplot(data_binom,\n",
    "                  kde=True,\n",
    "                  color='green',\n",
    "                  hist_kws={\"linewidth\": 25,'alpha':1})\n",
    "ax.set(xlabel='Poisson', ylabel='Frequency')\n"
   ]
  },
  {
   "cell_type": "markdown",
   "metadata": {},
   "source": [
    "### Continuous Distributions\n",
    "\n",
    "A continuous random variable takes on an uncountably infinite number of possible values (e.g. all real numbers).\n",
    "\n",
    "If X is a continuous random variable, then there exists unique nonnegative functions, f(x) and F(x), such that the following are true:\n",
    "\n",
    "$$ P( a \\leq X \\leq b) = \\int_{a}^{b} f(x)dx $$\n",
    "$$ P(X < x) = F(x) $$\n",
    "\n",
    "- Uniform Distribution :- The uniform distribution is a continuous distribution such that all intervals of equal length(say all intervals of length which are of length l) on the distribution's support have equal probability. For example, this distribution might be used to model people's full birth dates, where it is assumed that all times in the calendar year are equally likely.\n",
    "- Normal :- The normal (or Gaussian) distribution has a bell-shaped density function and is used in the sciences to represent real-valued random variables that are assumed to be additively produced by many small effects.(Central Limit Theorem) For example the normal distribution is used to model people's height, since height can be assumed to be the result of many small genetic and evironmental factors.\n",
    "- Student's t-distribution, or simply the t-distribution, arises when estimating the mean of a normally distributed population in situations where the sample size is small and population standard deviation is unknown.\n",
    "- A chi-squared random variable with k degrees of freedom is the sum of k independent and identically distributed squared standard normal random variables. It is often used in hypothesis testing and in the construction of confidence intervals.\n",
    "- The exponential distribution is the continuous analogue of the geometric distribution. It is often used to model waiting times.\n",
    "- The F-distribution, also known as the Fisher–Snedecor distribution, arises frequently as the null distribution of a test statistic, most notably in the analysis of variance.\n",
    "- The gamma distribution is a general family of continuous probability distributions. The exponential and chi-squared distributions are special cases of the gamma distribution.\n",
    "- The beta distribution is a general family of continuous probability distributions bound between 0 and 1. The beta distribution is frequently used as a conjugate prior distribution in Bayesian statistics.\n",
    "\n",
    "\n"
   ]
  },
  {
   "cell_type": "code",
   "execution_count": 38,
   "metadata": {
    "collapsed": true
   },
   "outputs": [],
   "source": [
    "%matplotlib inline\n",
    "import numpy as np\n",
    "import pandas as pd\n",
    "import matplotlib.pyplot as plt\n",
    "import scipy.stats  as stats"
   ]
  },
  {
   "cell_type": "code",
   "execution_count": 39,
   "metadata": {},
   "outputs": [
    {
     "data": {
      "text/plain": [
       "0.25"
      ]
     },
     "execution_count": 39,
     "metadata": {},
     "output_type": "execute_result"
    },
    {
     "data": {
      "image/png": "[encoded data removed]",
      "text/plain": [
       "<matplotlib.figure.Figure at 0x1a1eb24ef0>"
      ]
     },
     "metadata": {},
     "output_type": "display_data"
    }
   ],
   "source": [
    "#uniform discrete distribution, \n",
    "#its like the 10 numbers have equal probability of occurence and imagine urself of randomly picking a number between \n",
    "#1 and 10, then you would eventualy be following this uniform distribution\n",
    "uniform_data = stats.uniform.rvs(size=100000,  # Generate 100000 numbers\n",
    "                                 loc = 0,      # From 0 \n",
    "                                 scale=10)     # To 10\n",
    "#pdf\n",
    "pd.DataFrame(uniform_data).plot(kind=\"density\",  # Plot the distribution\n",
    "                               figsize=(9,9),\n",
    "                               xlim=(-1,11))\n",
    "#cdf\n",
    "stats.uniform.cdf(x=2.5,         # Cutoff value (quantile) to check\n",
    "                  loc=0,         # Distribution start\n",
    "                  scale=10)      # Distribution end"
   ]
  },
  {
   "cell_type": "markdown",
   "metadata": {},
   "source": [
    "### Central Limit Theorem and Sampling Distribution\n",
    "Many assumes data to follow a normal distribution because of beautiful properties like symmetry and the data being centred around a point estimate like mean.(so making next best guess is easy if we are seeing a sequence of normally distributed rvs like financial returns eventually every thing follows the mean.\n",
    "\n",
    "But the real world data is not so, it is also quite obvious that sample distribution follows the same distribution as the population.This suggests that we can't apply techniques that assume a normal distribution but wait let us first understand Central Limit Theorem.\n",
    "\n",
    "Theorem states the distribution of many sample means, known as a sampling distribution, will be normally distributed. This rule holds even if the underlying distribution itself is not normally distributed. **As a result we can treat the sample mean as if it were drawn normal distribution.**"
   ]
  },
  {
   "cell_type": "code",
   "execution_count": 54,
   "metadata": {},
   "outputs": [
    {
     "data": {
      "text/plain": [
       "-4.8999999997079158e-05"
      ]
     },
     "execution_count": 54,
     "metadata": {},
     "output_type": "execute_result"
    },
    {
     "data": {
      "image/png": "[encoded data removed]",
      "text/plain": [
       "<matplotlib.figure.Figure at 0x1a1e8405c0>"
      ]
     },
     "metadata": {},
     "output_type": "display_data"
    }
   ],
   "source": [
    "#clt\n",
    "#Imagine we are looking at india's population age as a poisson process, it is a country with a relatively young crowd\n",
    "#Let us assume . mu or lambda to be 20\n",
    "population_ages = stats.poisson.rvs(loc=0, mu=20, size=100000)\n",
    "\n",
    "#To illustrate, let's create a sampling distribution by taking 200 samples from our population and then making \n",
    "#1000 point estimates of the mean:\n",
    "np.random.seed(10)\n",
    "\n",
    "point_estimates = []         # Make empty list to hold point estimates\n",
    "\n",
    "for x in range(1000):         # Generate 1000 samples, each of size 1000\n",
    "    sample = np.random.choice(a= population_ages, size=1000)\n",
    "    point_estimates.append( sample.mean() )\n",
    "    \n",
    "pd.DataFrame(point_estimates).plot(kind=\"density\",  # Plot sample mean density\n",
    "                                   figsize=(5,5))   \n",
    "\n",
    "#Mean of sampling distribution approaches the population mean\n",
    "population_ages.mean() - np.array(point_estimates).mean()\n"
   ]
  },
  {
   "cell_type": "markdown",
   "metadata": {},
   "source": [
    "There are two broad areas of statistical inference, estimation and hypothesis testing. Estimation is the process of determining a likely value for a population parameter (e.g., the true population mean or population proportion) based on a random sample. In practice, we select a sample from the target population and use sample statistics (e.g., the sample mean or sample proportion) as estimates of the unknown parameter. The sample should be representative of the population, with participants selected at random from the population. In generating estimates, it is also important to quantify the precision of estimates from different samples.  \n",
    "\n",
    "### Point Estmation\n",
    "One of the main goals of statistics is to estimate unknown parameters. To approximate these parameters, we choose an estimator, which is simply any function of randomly sampled observations.\n",
    "\n",
    "A one sample test is used to compare the mean of a sample to a known value (often  0, but not always).\n",
    "\n",
    "A two sample test is used to compare the means of two different samples.\n",
    "\n",
    "### Confidence Interval\n",
    "In contrast to point estimators, **confidence intervals estimate a parameter by specifying a range of possible values.**\n",
    "Such an interval is associated with a confidence level, which is the probability that the **procedure** used to generate the interval **will produce an interval containing the true parameter.**\n",
    "The confidence interval does not reflect the variability in the unknown parameter. Rather, it reflects the amount of random error in the sample(Procedure) and provides a range of values that are likely to include the unknown parameter.\n",
    "\n",
    "Confidence levels are expressed as a percentage (for example, a 95% confidence level, 1- $\\alpha$). It means that if you repeat an experiment or survey over and over again, 95 percent of the time your results will match the results you get from a population.\n",
    "\n",
    "Confidence interval for population mean can be identified using z-scores or t-scores( from Central Limit theorem, which states that the mean of random but identical samples drawn from any distribution will have its mean follow a normal distribution). and we know that z-scores/t-scores are nothng but how many standard deviations away from the mean our data point falls.\n",
    "\n",
    "Calculate a confidence interval by **taking a point estimate and then adding and subtracting a margin of error** to create a range. \n",
    "Margin of error is based on your desired confidence level(z-score($>30$ samples) or t-score($<30$ samples)), the spread of the data and the size of your sample. The way you calculate the margin of error depends on whether you know the standard deviation of the population or not.\n",
    "If you know the standard deviation of the population, the margin of error is equal to:\n",
    "\n",
    "$$ z* \\frac{\\sigma}{\\sqrt n} $$\n",
    "\n",
    "The z-critical value is the number of stdv you'd have to go from the mean of the normal distribution(distribution of sample means in this case) to capture the proportion of the data associated with the desired confidence level. \n",
    "\n",
    "If one doesn't know the stdv of the population, use the standard deviation of the sample. We call this the standard error whose value, $$se = \\frac{s}{\\sqrt n}$$\n",
    "where s :- sample stdv, we also change our distribution to a t-distribution, a distribution that closely resembles the normal distribution but that gets wider and wider as the sample size falls. This is done because the t-critical value is larger than the z-critical value for any confidence level. This allows the CI to be larger to make up for the variability caused by using the sample stdv in place of the population stdv. **The end result is a much wider confidence interval (an interval with a larger margin of error.).**\n",
    "\n",
    "If we have a large sample, the t-critical value will approach the z-critical value so there is little difference between using the normal distribution vs. the t-distribution. Run this code below to see for yourself.\n",
    "\n",
    "```python\n",
    "stats.t.ppf(q=0.975, df= 9999) - stats.norm.ppf(0.975)\n",
    "```\n",
    "\n",
    "Resources :- <br>\n",
    "http://www.statisticshowto.com/probability-and-statistics/confidence-interval/ <br>\n",
    "http://pages.wustl.edu/montgomery/articles/2757 <br>\n",
    "http://people.missouristate.edu/songfengzheng/Teaching/MTH541/Lecture%20notes/CI.pdf<br>\n",
    "https://www.coursera.org/learn/basic-statistics/lecture/PjxQe/6-03-ci-for-mean-with-unknown-population-sd\n"
   ]
  },
  {
   "cell_type": "code",
   "execution_count": 67,
   "metadata": {},
   "outputs": [
    {
     "data": {
      "text/plain": [
       "<matplotlib.collections.LineCollection at 0x1a1f1f2588>"
      ]
     },
     "execution_count": 67,
     "metadata": {},
     "output_type": "execute_result"
    },
    {
     "data": {
      "image/png": "[encoded data removed]",
      "text/plain": [
       "<matplotlib.figure.Figure at 0x1a1f207780>"
      ]
     },
     "metadata": {},
     "output_type": "display_data"
    }
   ],
   "source": [
    "#Let's calculate a 95% confidence for our mean point estimate:\n",
    "import math\n",
    "np.random.seed(10)\n",
    "\n",
    "sample_size = 1000\n",
    "sample = np.random.choice(a= population_ages, size = sample_size)\n",
    "sample_mean = sample.mean()\n",
    "\n",
    "z_critical = stats.norm.ppf(q = 0.975)  # Get the z-critical value\n",
    "\n",
    "# print(\"z-critical value:\")              # Check the z-critical value\n",
    "# print(z_critical)                        \n",
    "\n",
    "pop_stdev = population_ages.std()  # Get the population standard deviation\n",
    "\n",
    "margin_of_error = z_critical * (pop_stdev/math.sqrt(sample_size))\n",
    "\n",
    "confidence_interval = (sample_mean - margin_of_error,\n",
    "                       sample_mean + margin_of_error)  \n",
    "\n",
    "# print(\"Confidence interval:\")\n",
    "# print(confidence_interval)\n",
    "\n",
    "#True population mean\n",
    "# population_ages.mean() #clearly it is captured by the CI\n",
    "\n",
    "#Let us draw several of such CI each from a different sample from the population age rvs\n",
    "np.random.seed(10)\n",
    "\n",
    "sample_size = 1000\n",
    "\n",
    "intervals = []\n",
    "sample_means = []\n",
    "\n",
    "for sample in range(50):\n",
    "    sample = np.random.choice(a= population_ages, size = sample_size)\n",
    "    sample_mean = sample.mean()\n",
    "    sample_means.append(sample_mean)\n",
    "\n",
    "    z_critical = stats.norm.ppf(q = 0.975)  # Get the z-critical value        \n",
    "\n",
    "    pop_stdev = population_ages.std()  # Get the population standard deviation\n",
    "\n",
    "    margin_of_error = z_critical * (pop_stdev/math.sqrt(sample_size))\n",
    "\n",
    "    confidence_interval = (sample_mean - margin_of_error,\n",
    "                           sample_mean + margin_of_error)  \n",
    "    \n",
    "    intervals.append(confidence_interval)\n",
    "    \n",
    "\n",
    "plt.figure(figsize=(9,9))\n",
    "\n",
    "plt.errorbar(x=np.arange(0.1, 50, 1), \n",
    "             y=sample_means, \n",
    "             yerr=[(top-bot)/2 for top,bot in intervals],\n",
    "             fmt='o')\n",
    "\n",
    "plt.hlines(xmin=0, xmax=50,\n",
    "           y=population_ages.mean(), \n",
    "           linewidth=2.0,\n",
    "           color=\"red\")"
   ]
  },
  {
   "cell_type": "code",
   "execution_count": 68,
   "metadata": {},
   "outputs": [
    {
     "data": {
      "text/plain": [
       "(19.405944345457662, 21.994055654542336)"
      ]
     },
     "execution_count": 68,
     "metadata": {},
     "output_type": "execute_result"
    }
   ],
   "source": [
    "#When we dont know sample stdv\n",
    "np.random.seed(10)\n",
    "\n",
    "sample_size = 30\n",
    "sample = np.random.choice(a= population_ages, size = sample_size)\n",
    "sample_mean = sample.mean()\n",
    "sample_stdev = sample.std()    # Get the sample standard deviation\n",
    "sigma = sample_stdev/math.sqrt(sample_size)  # Standard deviation estimate\n",
    "stats.t.interval(alpha = 0.95,              # Confidence level\n",
    "                 df= 29,                    # Degrees of freedom, for a small sample size, a large sample size's std\n",
    "                                            # is a good approximator for population's std\n",
    "                 loc = sample_mean,         # Sample mean\n",
    "                 scale = sigma)             # Standard deviation estimate\n",
    "#note a larger interval, to account for more fluctuation in the sample std"
   ]
  },
  {
   "cell_type": "markdown",
   "metadata": {},
   "source": [
    "## Hypothesis Testing\n",
    "While perform a hypothesis test, we are testing to see if the difference we see is due to random chance or if one is 'significantly' different from another.\n",
    "\n",
    "Null Hypothesis :- The observed trend( avg height of boys > 155 cm, avg temp in Delhi during winters > 25 etc.) is not real.\n",
    "Alternative Hypothesis :- The observed trend is real and true.\n",
    "\n",
    "We say that looking at the trend we see from the sample what is the probability that there will actually be the same trend and not a chance.The probability that it's due to random chance is the P-value, so a lower P-value means a greater chance that it's a real trend.\n",
    "If your p-value is below your alpha level, you can declare it significant. If you set an alpha of 0.05, you're saying \"If my p-value is less than 0.05, that's low enough for me to say that the trend is real and significant\".\n",
    "\n",
    "'standardized test statistic' is the number of stdv away from what you'd expect to see your sample values to be if the trend did not exist(like mean being zero, avg height of boys <= 155 etc). So a higher test statistic means a higher likelihood that the trend is real. \n",
    "\n",
    "The critical value is kind of like your Alpha. So if you set your critical value to 1.96 and you get a test statistic of 2, then you can reject your null hypothesis. \n",
    "\n",
    "https://www.khanacademy.org/math/statistics-probability/significance-tests-one-sample/more-significance-testing-videos/v/one-tailed-and-two-tailed-tests\n",
    "\n",
    "Resource For general stats doubt:-\n",
    "https://www.khanacademy.org/math/statistics-probability"
   ]
  },
  {
   "cell_type": "code",
   "execution_count": null,
   "metadata": {
    "collapsed": true
   },
   "outputs": [],
   "source": []
  },
  {
   "cell_type": "code",
   "execution_count": null,
   "metadata": {
    "collapsed": true
   },
   "outputs": [],
   "source": []
  }
 ],
 "metadata": {
  "kernelspec": {
   "display_name": "Python 3",
   "language": "python",
   "name": "python3"
  },
  "language_info": {
   "codemirror_mode": {
    "name": "ipython",
    "version": 3
   },
   "file_extension": ".py",
   "mimetype": "text/x-python",
   "name": "python",
   "nbconvert_exporter": "python",
   "pygments_lexer": "ipython3",
   "version": "3.6.3"
  }
 },
 "nbformat": 4,
 "nbformat_minor": 2
}
